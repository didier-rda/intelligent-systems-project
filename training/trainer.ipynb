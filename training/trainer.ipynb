{
 "cells": [
  {
   "cell_type": "markdown",
   "id": "rural-panama",
   "metadata": {},
   "source": [
    "### Created by: Rodrigo Didier, 01/31/21."
   ]
  },
  {
   "cell_type": "markdown",
   "id": "imported-principle",
   "metadata": {},
   "source": [
    "# Import Libs"
   ]
  },
  {
   "cell_type": "code",
   "execution_count": 1,
   "id": "combined-saver",
   "metadata": {},
   "outputs": [
    {
     "name": "stderr",
     "output_type": "stream",
     "text": [
      "[nltk_data] Downloading package punkt to /home/jovyan/nltk_data...\n",
      "[nltk_data]   Package punkt is already up-to-date!\n",
      "[nltk_data] Downloading package stopwords to /home/jovyan/nltk_data...\n",
      "[nltk_data]   Package stopwords is already up-to-date!\n"
     ]
    }
   ],
   "source": [
    "import sys\n",
    "import os\n",
    "import re\n",
    "import pandas as pd\n",
    "import numpy as np\n",
    "import pickle\n",
    "from sklearn.model_selection import train_test_split\n",
    "\n",
    "import nltk\n",
    "nltk.download('punkt')\n",
    "nltk.download('stopwords')\n",
    "\n",
    "from nltk.tokenize import word_tokenize\n",
    "from nltk.tokenize import sent_tokenize\n",
    "\n",
    "from nltk.corpus import stopwords\n",
    "from string import punctuation\n",
    "\n",
    "from nltk.probability import FreqDist\n",
    "\n",
    "from tqdm import tqdm\n",
    "from scipy import sparse as sp_sparse\n",
    "\n",
    "from sklearn.multiclass import OneVsRestClassifier\n",
    "from sklearn.linear_model import LogisticRegression\n",
    "\n",
    "from sklearn.metrics import accuracy_score\n",
    "from sklearn.metrics import f1_score\n",
    "from sklearn.metrics import roc_auc_score \n",
    "from sklearn.metrics import average_precision_score\n",
    "from sklearn.metrics import recall_score"
   ]
  },
  {
   "cell_type": "markdown",
   "id": "effective-embassy",
   "metadata": {},
   "source": [
    "# DATA SCIENCE PIPLINE --------------------------------------------------------------------------"
   ]
  },
  {
   "cell_type": "markdown",
   "id": "sufficient-camel",
   "metadata": {},
   "source": [
    "# 0. Feature Engineering"
   ]
  },
  {
   "cell_type": "markdown",
   "id": "fallen-injury",
   "metadata": {},
   "source": [
    "# 1. Data Extraction"
   ]
  },
  {
   "cell_type": "code",
   "execution_count": null,
   "id": "unlimited-violin",
   "metadata": {},
   "outputs": [],
   "source": []
  },
  {
   "cell_type": "code",
   "execution_count": 2,
   "id": "speaking-magnitude",
   "metadata": {},
   "outputs": [],
   "source": [
    "class dataExtractor:\n",
    "\n",
    "    def __init__(self):\n",
    "        self.data_path = os.getenv('DATASET_PATH')\n",
    "        self.data = self.extractData()\n",
    "\n",
    "    def extractData(self):\n",
    "        '''\n",
    "        Loads a dataset with product data from a specified path.\n",
    "        '''\n",
    "\n",
    "        return pd.read_csv(self.data_path)"
   ]
  },
  {
   "cell_type": "markdown",
   "id": "fitting-portable",
   "metadata": {},
   "source": [
    "#  2. Data Formatting"
   ]
  },
  {
   "cell_type": "code",
   "execution_count": 3,
   "id": "funky-memory",
   "metadata": {},
   "outputs": [],
   "source": [
    "class dataFormatter:\n",
    "    def __init__(self):\n",
    "        self.extracted_data = dataExtractor().data\n",
    "        #self.train_data = self.formatData()[0]\n",
    "        #self.validation_data = self.formatData()[1]\n",
    "        \n",
    "    def formatData(self):\n",
    "        '''\n",
    "        Processes the dataset to use it for training and validation.\n",
    "        '''\n",
    "        \n",
    "        # add methods to formating the data to the  modeler.\n",
    "    \n",
    "    def categoryToDummy(self):\n",
    "        # get dummy\n",
    "        dummy = pd.get_dummies(self.extracted_data['category'])\n",
    "\n",
    "        # merge df\n",
    "        df_dummy = pd.merge(self.extracted_data, dummy, left_index=True, right_index=True)\n",
    "\n",
    "        # delet no dummy cols\n",
    "        del df_dummy['category']\n",
    "\n",
    "        return df_dummy\n",
    "    \n",
    "    def splitTrainTestValidate(self):\n",
    "        '''\n",
    "        Split the dataset into train, validation and test\n",
    "        '''\n",
    "        \n",
    "        # categorical variables list to split\n",
    "        y_cols = list(self.categoryToDummy().columns[-6:])\n",
    "        X_cols = list(self.categoryToDummy().columns[:-6])\n",
    "        \n",
    "        # full data categorized\n",
    "        y_data =  self.categoryToDummy()[y_cols] #.values\n",
    "        X_data =  self.categoryToDummy()[X_cols] #.values\n",
    "                \n",
    "        X, X_test, y, y_test = train_test_split(X_data, y_data, test_size=0.2, train_size=0.8)\n",
    "        X_train, X_val, y_train, y_val = train_test_split(X,y,test_size = 0.25,train_size =0.75)\n",
    "        \n",
    "        return (X, y), (X_test, y_test), (X_val, y_val)\n",
    "    \n",
    "    def joinStringColumns(self):\n",
    "        \n",
    "        (X, y), (X_test, y_test), (X_val, y_val) = self.splitTrainTestValidate()\n",
    "        f_join_strings = lambda row: row['query'] + ' ' + row['title'] + ' ' + row['concatenated_tags']\n",
    "        \n",
    "        X = X.assign(full_text= f_join_strings)\n",
    "        X_test = X_test.assign(full_text= f_join_strings)\n",
    "        X_val = X_val.assign(full_text= f_join_strings)\n",
    "        \n",
    "        return (X, y), (X_test, y_test), (X_val, y_val)\n",
    "    \n",
    " \n",
    "    def normalizeFullText(self):\n",
    "        \"\"\"Lower text and remove punctuation, articles and extra whitespace.\"\"\"\n",
    "    \n",
    "        \n",
    "        def normalize_text(s):\n",
    "            \"\"\"Lower text and remove punctuation, articles and extra whitespace.\"\"\"        \n",
    "\n",
    "            def compost_words(text):\n",
    "                text = re.sub('[/]', ' ', str(text))\n",
    "                text = re.sub('[-]', ' ', str(text))\n",
    "                return text\n",
    "\n",
    "            def white_space_fix(text):\n",
    "                return \" \".join(text.split())\n",
    "\n",
    "            def remove_punc(text):\n",
    "                exclude = set(punctuation)\n",
    "                return \"\".join(ch for ch in text if ch not in exclude)\n",
    "\n",
    "            def lower(text):\n",
    "                return text.lower()\n",
    "    \n",
    "            def remove_stop_words(text):\n",
    "                from nltk.corpus import stopwords\n",
    "                stopwords = set(stopwords.words('portuguese') + list(punctuation) + list('/'))\n",
    "                palavras = word_tokenize(text)\n",
    "                palavras_sem_stopwords = [palavra for palavra in palavras if palavra not in stopwords]\n",
    "                return \" \".join(palavras_sem_stopwords)\n",
    "        \n",
    "            return remove_stop_words(white_space_fix(remove_punc(lower(compost_words(s)))))\n",
    "    \n",
    "        (X, y), (X_test, y_test), (X_val, y_val) = self.joinStringColumns()\n",
    "\n",
    "        X['full_text'] = list(map(normalize_text,list(X['full_text'])))\n",
    "        X_test['full_text'] = list(map(normalize_text,list(X_test['full_text'])))\n",
    "        X_val['full_text'] = list(map(normalize_text,list(X_val['full_text'])))\n",
    "        \n",
    "        \n",
    "        return (X, y), (X_test, y_test), (X_val, y_val)\n",
    "    \n",
    "    def getBagOfWordsSparse(self):\n",
    "        (X, y), (X_test, y_test), (X_val, y_val) = self.normalizeFullText()\n",
    "        \n",
    "        # first lets trainig the data.\n",
    "        \n",
    "        # start counting words\n",
    "        words_counts = {}\n",
    "        for text in tqdm(X.full_text):\n",
    "            for word in text.split():\n",
    "                words_counts[word] = 1\n",
    "            words_counts[word] += 1\n",
    "    \n",
    "        # get 10k most popular words\n",
    "        DICT_SIZE = int(os.getenv('DICT_OF_WORDS_SIZE'))\n",
    "        POPULAR_WORDS = sorted(words_counts, key=words_counts.get, reverse=True)[:DICT_SIZE]\n",
    "        WORDS_TO_INDEX = {key: rank for rank, key in enumerate(POPULAR_WORDS, 0)}\n",
    "        INDEX_TO_WORDS = {index:word for word, index in WORDS_TO_INDEX.items()}\n",
    "        ALL_WORDS = WORDS_TO_INDEX.keys()\n",
    "        \n",
    "        def my_bag_of_words(text, words_to_index, dict_size):\n",
    "            \"\"\"\n",
    "            text: a string\n",
    "            dict_size: size of the dictionary\n",
    "        \n",
    "            return a vector which is a bag-of-words representation of 'text'\n",
    "            \"\"\"\n",
    "            result_vector = np.zeros(dict_size)\n",
    "            for word in text.split(' '):\n",
    "                if word in words_to_index:\n",
    "                    result_vector[words_to_index[word]] +=1\n",
    "            return result_vector\n",
    "\n",
    "        X_train_mybag = sp_sparse.vstack([sp_sparse.csr_matrix(my_bag_of_words(text, WORDS_TO_INDEX, DICT_SIZE)) for text in X.full_text])\n",
    "        X_test_mybag = sp_sparse.vstack([sp_sparse.csr_matrix(my_bag_of_words(text, WORDS_TO_INDEX, DICT_SIZE)) for text in X_test.full_text])\n",
    "        X_val_mybag = sp_sparse.vstack([sp_sparse.csr_matrix(my_bag_of_words(text, WORDS_TO_INDEX, DICT_SIZE)) for text in X_val.full_text])\n",
    "        \n",
    "        return (X_train_mybag, y), (X_test_mybag, y_test), (X_val_mybag, y_val)"
   ]
  },
  {
   "cell_type": "markdown",
   "id": "general-gilbert",
   "metadata": {},
   "source": [
    "# 3. Data Modeling"
   ]
  },
  {
   "cell_type": "code",
   "execution_count": 4,
   "id": "whole-conflict",
   "metadata": {},
   "outputs": [],
   "source": [
    "class dataModeler:\n",
    "    #def __init__(self):\n",
    "        #self.model = self.createModelBoWClassifier()\n",
    "        #self.write_model =  self.writeModel()\n",
    "        #self.train_data = dataFormatter.train_data\n",
    "        \n",
    "    def createModelBoWClassifier(self):\n",
    "        '''\n",
    "        Specifies a model to handle the categorization problem.\n",
    "        # criar etapa de modelagem -métodos se for o caso\n",
    "        # dar split no train e treinar     \n",
    "        '''\n",
    "        \n",
    "        def train_classifier(X_train, y_train, C, regularisation):\n",
    "            \"\"\"\n",
    "            X_train, y_train — training data\n",
    "      \n",
    "            return: trained classifier\n",
    "            \"\"\"\n",
    "    \n",
    "            # Create and fit LogisticRegression wraped into OneVsRestClassifier.\n",
    "\n",
    "            model = OneVsRestClassifier(LogisticRegression(penalty=regularisation, C=C, max_iter=10000)).fit(X_train, y_train)\n",
    "            return model\n",
    "        \n",
    "        \n",
    "        (X_train_mybag, y), (X_test_mybag, y_test), (X_val_mybag, y_val) = dataFormatter().getBagOfWordsSparse()\n",
    "        \n",
    "        classifier_bow = train_classifier(X_train_mybag, y, C = 4, regularisation = 'l2')\n",
    "        \n",
    "        # in this first version, model 'll be saved here in the code.\n",
    "        pickle.dump(classifier_bow, open(os.getenv('MODEL_PATH'),'wb'))\n",
    "        \n",
    "        return classifier_bow\n",
    "    \n"
   ]
  },
  {
   "cell_type": "markdown",
   "id": "encouraging-relaxation",
   "metadata": {},
   "source": [
    "# 4. Model Validation"
   ]
  },
  {
   "cell_type": "code",
   "execution_count": 5,
   "id": "confidential-choir",
   "metadata": {},
   "outputs": [],
   "source": [
    "class modelValidator:\n",
    "    def __init__(self):\n",
    "        self.model = dataModeler().createModelBoWClassifier()\n",
    "        #self.validation_data = dataFormatter.validation_data\n",
    "    \n",
    "    #def readModel(self):\n",
    "    #    '''\n",
    "    #    get the model selected to handle the categorization problem.\n",
    "    #    '''\n",
    "    #    \n",
    "    #    # criar um try, se nao der entao dar um saveModel\n",
    "    #    \n",
    "    #    return pickle.load(open(os.getenv('MODEL_PATH'),'rb'))\n",
    "        \n",
    "    def validateModel(self):\n",
    "        '''\n",
    "        Generates metrics about the model accuracy (precision, recall, F1, etc.)\n",
    "        for each category and exports them to a specified path available in the \n",
    "        environment variable METRICS_PATH.\n",
    "        '''\n",
    "        # try k-fold and variants.\n",
    "        \n",
    "        # should save metrics in METRICS_PATH\n",
    "        def write_evaluation_scores(y_test, y_test_predicted, y_val, y_val_predicted):\n",
    "            \n",
    "            f = open(os.getenv('METRICS_PATH'), \"w\")\n",
    "            f.write(f\"model BoW TRAIN metrics:\\n\")\n",
    "            f.write(f\"F1-score macro: {f1_score(y_test, y_test_predicted, average='macro')}\\n\")\n",
    "            f.write(f\"F1-score micro: {f1_score(y_test, y_test_predicted, average='micro')}\\n\")\n",
    "            f.write(f\"F1-score weighted: {f1_score(y_test, y_test_predicted, average='weighted')}\\n\")\n",
    "            f.write(f\"Precision macro: {average_precision_score(y_test, y_test_predicted, average='macro')}\\n\")\n",
    "            f.write(f\"Precision micro: {average_precision_score(y_test, y_test_predicted, average='micro')}\\n\")\n",
    "            f.write(f\"Precision weighted: {average_precision_score(y_test, y_test_predicted, average='weighted')}\\n\")\n",
    "            f.write(f\"model BoW VALIDATION metrics:\\n\")\n",
    "            f.write(f\"F1-score macro: {f1_score(y_val, y_val_predicted, average='macro')}\\n\")\n",
    "            f.write(f\"F1-score micro: {f1_score(y_val, y_val_predicted, average='micro')}\\n\")\n",
    "            f.write(f\"F1-score weighted: {f1_score(y_val, y_val_predicted, average='weighted')}\\n\")\n",
    "            f.write(f\"Precision macro: {average_precision_score(y_val, y_val_predicted, average='macro')}\\n\")\n",
    "            f.write(f\"Precision micro: {average_precision_score(y_val, y_val_predicted, average='micro')}\\n\")\n",
    "            f.write(f\"Precision weighted: {average_precision_score(y_val, y_val_predicted, average='weighted')}\\n\")\n",
    "            f.close()\n",
    "        \n",
    "        (X_train_mybag, y), (X_test_mybag, y_test), (X_val_mybag, y_val) = dataFormatter().getBagOfWordsSparse()\n",
    "        \n",
    "        y_test_predicted = self.model.predict(X_test_mybag)\n",
    "        y_val_predicted = self.model.predict(X_val_mybag)\n",
    "        \n",
    "        write_evaluation_scores(y_test, y_test_predicted, y_val, y_val_predicted)\n",
    "\n",
    "        #dataModeler\n",
    "        #pass"
   ]
  },
  {
   "cell_type": "markdown",
   "id": "rotary-quarterly",
   "metadata": {},
   "source": [
    "# 5. DS Pipeline"
   ]
  },
  {
   "cell_type": "code",
   "execution_count": null,
   "id": "alpine-genius",
   "metadata": {},
   "outputs": [],
   "source": []
  },
  {
   "cell_type": "code",
   "execution_count": 6,
   "id": "legitimate-retailer",
   "metadata": {},
   "outputs": [],
   "source": [
    "class dataPipeline:\n",
    "    def __init__(self):\n",
    "        self.run = modelValidator().validateModel()"
   ]
  },
  {
   "cell_type": "code",
   "execution_count": 7,
   "id": "refined-export",
   "metadata": {},
   "outputs": [
    {
     "name": "stderr",
     "output_type": "stream",
     "text": [
      "100%|██████████| 30400/30400 [00:00<00:00, 313700.06it/s]\n",
      "100%|██████████| 30400/30400 [00:00<00:00, 353613.01it/s]\n"
     ]
    }
   ],
   "source": [
    "dataPipeline().run"
   ]
  },
  {
   "cell_type": "code",
   "execution_count": null,
   "id": "american-damages",
   "metadata": {},
   "outputs": [],
   "source": []
  },
  {
   "cell_type": "code",
   "execution_count": null,
   "id": "developmental-enclosure",
   "metadata": {},
   "outputs": [],
   "source": []
  },
  {
   "cell_type": "code",
   "execution_count": null,
   "id": "racial-viewer",
   "metadata": {},
   "outputs": [],
   "source": []
  },
  {
   "cell_type": "code",
   "execution_count": null,
   "id": "residential-minimum",
   "metadata": {},
   "outputs": [],
   "source": [
    "print('Accuracy: ', accuracy_score(y_test, predicted, normalize=False))\n",
    "    print('F1-score macro: ', f1_score(y_test, predicted, average='macro'))\n",
    "    print('F1-score micro: ', f1_score(y_test, predicted, average='micro'))\n",
    "    print('F1-score weighted: ', f1_score(y_test, predicted, average='weighted'))\n",
    "    print('Precision macro: ', average_precision_score(y_test, predicted, average='macro'))\n",
    "    print('Precision micro: ', average_precision_score(y_test, predicted, average='micro'))\n",
    "    print('Precision weighted: ', average_precision_score(y_test, predicted, average='weighted'))"
   ]
  },
  {
   "cell_type": "code",
   "execution_count": null,
   "id": "following-conversion",
   "metadata": {},
   "outputs": [],
   "source": [
    "classifier_mybag = train_classifier(X_train_mybag, y, C = 4, regularisation = 'l2')"
   ]
  },
  {
   "cell_type": "code",
   "execution_count": null,
   "id": "separated-hormone",
   "metadata": {},
   "outputs": [],
   "source": [
    "y_test_predicted_labels_mybag = classifier_mybag.predict(X_test_mybag)"
   ]
  },
  {
   "cell_type": "code",
   "execution_count": null,
   "id": "destroyed-governor",
   "metadata": {},
   "outputs": [],
   "source": [
    "y_test_predicted_scores_mybag = classifier_mybag.decision_function(X_test_mybag)"
   ]
  },
  {
   "cell_type": "code",
   "execution_count": null,
   "id": "expensive-percentage",
   "metadata": {},
   "outputs": [],
   "source": []
  },
  {
   "cell_type": "code",
   "execution_count": null,
   "id": "cheap-radar",
   "metadata": {},
   "outputs": [],
   "source": [
    "#os.getenv('DATASET_PATH')\n",
    "int(os.getenv('DICT_OF_WORDS_SIZE'))"
   ]
  },
  {
   "cell_type": "code",
   "execution_count": null,
   "id": "female-duration",
   "metadata": {},
   "outputs": [],
   "source": []
  },
  {
   "cell_type": "code",
   "execution_count": null,
   "id": "advance-stand",
   "metadata": {},
   "outputs": [],
   "source": [
    "(X, y), (X_test, y_test), (X_val, y_val) = dataFormatter().normalizeFullText()"
   ]
  },
  {
   "cell_type": "code",
   "execution_count": null,
   "id": "electoral-certification",
   "metadata": {},
   "outputs": [],
   "source": [
    "from tqdm import tqdm\n",
    "from scipy import sparse as sp_sparse\n",
    "\n",
    "from sklearn.multiclass import OneVsRestClassifier\n",
    "from sklearn.linear_model import LogisticRegression\n",
    "\n",
    "from sklearn.metrics import accuracy_score\n",
    "from sklearn.metrics import f1_score\n",
    "from sklearn.metrics import roc_auc_score \n",
    "from sklearn.metrics import average_precision_score\n",
    "from sklearn.metrics import recall_score"
   ]
  },
  {
   "cell_type": "code",
   "execution_count": null,
   "id": "vertical-syndrome",
   "metadata": {},
   "outputs": [],
   "source": [
    "words_counts = {}\n",
    "for text in tqdm(X.full_text):\n",
    "    for word in text.split():\n",
    "        words_counts[word] = 1\n",
    "    words_counts[word] += 1\n",
    "    \n",
    "DICT_SIZE = 10000\n",
    "POPULAR_WORDS = sorted(words_counts, key=words_counts.get, reverse=True)[:DICT_SIZE]\n",
    "WORDS_TO_INDEX = {key: rank for rank, key in enumerate(POPULAR_WORDS, 0)}\n",
    "INDEX_TO_WORDS = {index:word for word, index in WORDS_TO_INDEX.items()}\n",
    "ALL_WORDS = WORDS_TO_INDEX.keys()\n",
    "\n"
   ]
  },
  {
   "cell_type": "code",
   "execution_count": null,
   "id": "resistant-introduction",
   "metadata": {},
   "outputs": [],
   "source": [
    "from scipy import sparse as sp_sparse\n",
    "\n",
    "\n",
    "def my_bag_of_words(text, words_to_index, dict_size):\n",
    "    \"\"\"\n",
    "        text: a string\n",
    "        dict_size: size of the dictionary\n",
    "        \n",
    "        return a vector which is a bag-of-words representation of 'text'\n",
    "    \"\"\"\n",
    "    result_vector = np.zeros(dict_size)\n",
    "    for word in text.split(' '):\n",
    "        if word in words_to_index:\n",
    "            result_vector[words_to_index[word]] +=1\n",
    "    return result_vector\n",
    "\n"
   ]
  },
  {
   "cell_type": "code",
   "execution_count": null,
   "id": "perfect-reply",
   "metadata": {},
   "outputs": [],
   "source": [
    "X_train_mybag = sp_sparse.vstack([sp_sparse.csr_matrix(my_bag_of_words(text, WORDS_TO_INDEX, DICT_SIZE)) for text in X.full_text])\n",
    "X_test_mybag = sp_sparse.vstack([sp_sparse.csr_matrix(my_bag_of_words(text, WORDS_TO_INDEX, DICT_SIZE)) for text in X_test.full_text])\n",
    "X_val_mybag = sp_sparse.vstack([sp_sparse.csr_matrix(my_bag_of_words(text, WORDS_TO_INDEX, DICT_SIZE)) for text in X_val.full_text])\n",
    "#print('X_train shape ', X_train_mybag.shape, '\\nX_val shape ', X_val_mybag.shape)"
   ]
  },
  {
   "cell_type": "code",
   "execution_count": null,
   "id": "controlled-space",
   "metadata": {},
   "outputs": [],
   "source": [
    "X_train_mybag"
   ]
  },
  {
   "cell_type": "code",
   "execution_count": null,
   "id": "foster-heart",
   "metadata": {},
   "outputs": [],
   "source": [
    "X_test_mybag"
   ]
  },
  {
   "cell_type": "code",
   "execution_count": null,
   "id": "cooked-costs",
   "metadata": {},
   "outputs": [],
   "source": [
    "from sklearn.multiclass import OneVsRestClassifier\n",
    "from sklearn.linear_model import LogisticRegression"
   ]
  },
  {
   "cell_type": "code",
   "execution_count": null,
   "id": "robust-validity",
   "metadata": {},
   "outputs": [],
   "source": [
    "def train_classifier(X_train, y_train, C, regularisation):\n",
    "    \"\"\"\n",
    "      X_train, y_train — training data\n",
    "      \n",
    "      return: trained classifier\n",
    "    \"\"\"\n",
    "    \n",
    "    # Create and fit LogisticRegression wraped into OneVsRestClassifier.\n",
    "\n",
    "    model = OneVsRestClassifier(LogisticRegression(penalty=regularisation, C=C, max_iter=10000)).fit(X_train, y_train)\n",
    "    return model\n",
    "\n"
   ]
  },
  {
   "cell_type": "code",
   "execution_count": null,
   "id": "broke-primary",
   "metadata": {},
   "outputs": [],
   "source": [
    "classifier_mybag = train_classifier(X_train_mybag, y, C = 4, regularisation = 'l2')"
   ]
  },
  {
   "cell_type": "code",
   "execution_count": null,
   "id": "recovered-chair",
   "metadata": {},
   "outputs": [],
   "source": [
    "y_test_predicted_labels_mybag = classifier_mybag.predict(X_test_mybag)"
   ]
  },
  {
   "cell_type": "code",
   "execution_count": null,
   "id": "engaged-roberts",
   "metadata": {},
   "outputs": [],
   "source": [
    "y_test_predicted_scores_mybag = classifier_mybag.decision_function(X_test_mybag)"
   ]
  },
  {
   "cell_type": "code",
   "execution_count": null,
   "id": "suburban-responsibility",
   "metadata": {},
   "outputs": [],
   "source": []
  },
  {
   "cell_type": "code",
   "execution_count": null,
   "id": "brazilian-frontier",
   "metadata": {},
   "outputs": [],
   "source": [
    "from sklearn.metrics import accuracy_score\n",
    "from sklearn.metrics import f1_score\n",
    "from sklearn.metrics import roc_auc_score \n",
    "from sklearn.metrics import average_precision_score\n",
    "from sklearn.metrics import recall_score"
   ]
  },
  {
   "cell_type": "code",
   "execution_count": null,
   "id": "generous-daniel",
   "metadata": {},
   "outputs": [],
   "source": [
    "def print_evaluation_scores(y_test, predicted):\n",
    "    \n",
    "    print('Accuracy: ', accuracy_score(y_test, predicted, normalize=False))\n",
    "    print('F1-score macro: ', f1_score(y_test, predicted, average='macro'))\n",
    "    print('F1-score micro: ', f1_score(y_test, predicted, average='micro'))\n",
    "    print('F1-score weighted: ', f1_score(y_test, predicted, average='weighted'))\n",
    "    print('Precision macro: ', average_precision_score(y_test, predicted, average='macro'))\n",
    "    print('Precision micro: ', average_precision_score(y_test, predicted, average='micro'))\n",
    "    print('Precision weighted: ', average_precision_score(y_test, predicted, average='weighted'))"
   ]
  },
  {
   "cell_type": "code",
   "execution_count": null,
   "id": "stone-review",
   "metadata": {},
   "outputs": [],
   "source": [
    "print('Model: Bag-of-words\\nTrain')\n",
    "print_evaluation_scores(y_test, y_test_predicted_labels_mybag)"
   ]
  },
  {
   "cell_type": "code",
   "execution_count": null,
   "id": "conceptual-exhaust",
   "metadata": {},
   "outputs": [],
   "source": [
    "# Validation"
   ]
  },
  {
   "cell_type": "code",
   "execution_count": null,
   "id": "polish-stake",
   "metadata": {},
   "outputs": [],
   "source": [
    "X_val_mybag = sp_sparse.vstack([sp_sparse.csr_matrix(my_bag_of_words(text, WORDS_TO_INDEX, DICT_SIZE)) for text in X_val.full_text])\n",
    "y_val_predicted_labels_mybag = classifier_mybag.predict(X_val_mybag)\n",
    "\n",
    "print('Bag-of-words\\n')\n",
    "print_evaluation_scores(y_val, y_val_predicted_labels_mybag)\n"
   ]
  },
  {
   "cell_type": "code",
   "execution_count": null,
   "id": "minute-announcement",
   "metadata": {},
   "outputs": [],
   "source": [
    "dataExtractor().extractData().head()"
   ]
  },
  {
   "cell_type": "code",
   "execution_count": null,
   "id": "foreign-invitation",
   "metadata": {},
   "outputs": [],
   "source": [
    "dataExtractor().extractData().category.value_counts()"
   ]
  },
  {
   "cell_type": "markdown",
   "id": "aggressive-schema",
   "metadata": {},
   "source": [
    "# 3. Data Modeling"
   ]
  },
  {
   "cell_type": "code",
   "execution_count": null,
   "id": "therapeutic-preservation",
   "metadata": {},
   "outputs": [],
   "source": [
    "class dataModeler(dataFormatter):\n",
    "    def __init__(self):\n",
    "        self.model = dataModeler.getModel()\n",
    "        self.train_data = dataFormatter.train_data\n",
    "        \n",
    "    def getModel():\n",
    "        '''\n",
    "        Specifies a model to handle the categorization problem.\n",
    "        # criar etapa de modelagem -métodos se for o caso\n",
    "        # dar split no train e treinar\n",
    "        \n",
    "        \n",
    "        '''\n",
    "\n",
    "        model = None\n",
    "        return model\n",
    "        \n",
    "    def writeModel(self):\n",
    "        '''\n",
    "        Exports a candidate model to a specified path available\n",
    "        in the environment variable MODEL_PATH.\n",
    "        '''\n",
    "\n",
    "        # criar try: tenta salvar, se nao dá erro.\n",
    "    \n",
    "        return pickle.dump(self.model, open(os.getenv('MODEL_PATH'),'wb'))\n"
   ]
  },
  {
   "cell_type": "markdown",
   "id": "objective-going",
   "metadata": {},
   "source": [
    "# 4. Model Validation"
   ]
  },
  {
   "cell_type": "code",
   "execution_count": null,
   "id": "electoral-console",
   "metadata": {},
   "outputs": [],
   "source": [
    "class modelValidator(dataModeler, dataFormatter):\n",
    "    def __init__(self):\n",
    "        self.model = self.readModel()\n",
    "        self.validation_data = dataFormatter.validation_data\n",
    "    \n",
    "    def readModel(self):\n",
    "        '''\n",
    "        get the model selected to handle the categorization problem.\n",
    "        '''\n",
    "        \n",
    "        # criar um try, se nao der entao dar um saveModel\n",
    "        \n",
    "        return pickle.load(open(os.getenv('MODEL_PATH'),'rb'))\n",
    "        \n",
    "    def validateModel(self):\n",
    "        '''\n",
    "        Generates metrics about the model accuracy (precision, recall, F1, etc.)\n",
    "        for each category and exports them to a specified path available in the \n",
    "        environment variable METRICS_PATH.\n",
    "        '''\n",
    "        # try k-fold and variants.\n",
    "        \n",
    "        # should save metrics in METRICS_PATH\n",
    "        f = open(os.getenv('METRICS_PATH'), \"w\")\n",
    "        f.write(\"F1:95.0, Precision:87.5\")\n",
    "        f.close()\n",
    "        pass"
   ]
  },
  {
   "cell_type": "markdown",
   "id": "bronze-valve",
   "metadata": {},
   "source": [
    "# 5. Model Prediction"
   ]
  },
  {
   "cell_type": "code",
   "execution_count": null,
   "id": "concerned-technology",
   "metadata": {},
   "outputs": [],
   "source": []
  }
 ],
 "metadata": {
  "kernelspec": {
   "display_name": "Python 3",
   "language": "python",
   "name": "python3"
  },
  "language_info": {
   "codemirror_mode": {
    "name": "ipython",
    "version": 3
   },
   "file_extension": ".py",
   "mimetype": "text/x-python",
   "name": "python",
   "nbconvert_exporter": "python",
   "pygments_lexer": "ipython3",
   "version": "3.9.1"
  }
 },
 "nbformat": 4,
 "nbformat_minor": 5
}
